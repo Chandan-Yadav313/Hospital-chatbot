{
  "nbformat": 4,
  "nbformat_minor": 0,
  "metadata": {
    "colab": {
      "provenance": [],
      "authorship_tag": "ABX9TyNC3DFMxgswzHXagGf7xVBj",
      "include_colab_link": true
    },
    "kernelspec": {
      "name": "python3",
      "display_name": "Python 3"
    },
    "language_info": {
      "name": "python"
    }
  },
  "cells": [
    {
      "cell_type": "markdown",
      "metadata": {
        "id": "view-in-github",
        "colab_type": "text"
      },
      "source": [
        "<a href=\"https://colab.research.google.com/github/Chandan-Yadav313/Hospital-chatbot/blob/main/Hospital_Chatbot.ipynb\" target=\"_parent\"><img src=\"https://colab.research.google.com/assets/colab-badge.svg\" alt=\"Open In Colab\"/></a>"
      ]
    },
    {
      "cell_type": "code",
      "source": [
        "!pip install python-aiml"
      ],
      "metadata": {
        "id": "8nPHc-EbaV5j",
        "colab": {
          "base_uri": "https://localhost:8080/"
        },
        "outputId": "9167eecf-1c5d-4fe4-c959-d3d139479e6b"
      },
      "execution_count": 6,
      "outputs": [
        {
          "output_type": "stream",
          "name": "stdout",
          "text": [
            "Requirement already satisfied: python-aiml in /usr/local/lib/python3.10/dist-packages (0.9.3)\n",
            "Requirement already satisfied: setuptools in /usr/local/lib/python3.10/dist-packages (from python-aiml) (71.0.4)\n"
          ]
        }
      ]
    },
    {
      "cell_type": "code",
      "source": [
        "import aiml"
      ],
      "metadata": {
        "id": "UGpCwaTIygm4"
      },
      "execution_count": 7,
      "outputs": []
    },
    {
      "cell_type": "code",
      "source": [
        "kernel = aiml.Kernel()"
      ],
      "metadata": {
        "id": "x0F07Iy_zaz1"
      },
      "execution_count": 8,
      "outputs": []
    },
    {
      "cell_type": "code",
      "source": [
        "kernel.learn(\"/content/hospital-chatbot.xml\")"
      ],
      "metadata": {
        "colab": {
          "base_uri": "https://localhost:8080/"
        },
        "id": "taPNuqEfzeb3",
        "outputId": "31d17311-1832-4896-8702-578b40c0ef01"
      },
      "execution_count": 9,
      "outputs": [
        {
          "output_type": "stream",
          "name": "stdout",
          "text": [
            "Loading /content/hospital-chatbot.xml...done (0.00 seconds)\n"
          ]
        }
      ]
    },
    {
      "cell_type": "code",
      "source": [
        "kernel.respond(\"load hospital chatbot\")"
      ],
      "metadata": {
        "colab": {
          "base_uri": "https://localhost:8080/",
          "height": 53
        },
        "id": "I9JsywTAzv0N",
        "outputId": "093942b3-1170-403a-c1aa-74e4a81bf79e"
      },
      "execution_count": 10,
      "outputs": [
        {
          "output_type": "stream",
          "name": "stdout",
          "text": [
            "Loading /content/hospital_chatbot.aiml...done (0.01 seconds)\n"
          ]
        },
        {
          "output_type": "execute_result",
          "data": {
            "text/plain": [
              "''"
            ],
            "application/vnd.google.colaboratory.intrinsic+json": {
              "type": "string"
            }
          },
          "metadata": {},
          "execution_count": 10
        }
      ]
    },
    {
      "cell_type": "code",
      "source": [
        "while True:\n",
        "  input_txt= input(\">You: \")\n",
        "  response =kernel.respond(input_txt)\n",
        "  print(\">Bot: \"+response)"
      ],
      "metadata": {
        "colab": {
          "base_uri": "https://localhost:8080/"
        },
        "id": "7NTwFV2fz2bP",
        "outputId": "e25def5f-e589-4ec3-9405-118b28935da6"
      },
      "execution_count": null,
      "outputs": [
        {
          "output_type": "stream",
          "name": "stdout",
          "text": [
            ">You: HI\n",
            ">Bot: Hi there! How can I help you?\n",
            ">You: HELLO\n",
            ">Bot: Hello! How can I assist you today?\n",
            ">You: GOOD MORNING\n",
            ">Bot: Good morning! How can I assist you today?\n",
            ">You: HOW CAN I CONTACT THE HOSPITAl\n",
            ">Bot: You can contact the hospital at (555) 123-4567 or email us at contact@hospital.com.\n"
          ]
        }
      ]
    },
    {
      "cell_type": "code",
      "source": [],
      "metadata": {
        "id": "3cpxm5-Zz7me"
      },
      "execution_count": null,
      "outputs": []
    }
  ]
}